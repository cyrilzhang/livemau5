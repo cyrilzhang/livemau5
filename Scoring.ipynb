{
 "cells": [
  {
   "cell_type": "code",
   "execution_count": 1,
   "metadata": {
    "collapsed": true
   },
   "outputs": [],
   "source": [
    "%matplotlib inline\n",
    "\n",
    "import matplotlib.pyplot as plt\n",
    "import numpy as np\n",
    "from scipy.ndimage.filters import laplace\n",
    "from skimage import feature\n",
    "from itertools import chain\n",
    "import random\n",
    "\n",
    "from load import *\n",
    "from test import *\n",
    "\n",
    "#plt.rcParams['figure.figsize'] = (16, 16)"
   ]
  },
  {
   "cell_type": "code",
   "execution_count": 2,
   "metadata": {
    "collapsed": false
   },
   "outputs": [
    {
     "name": "stderr",
     "output_type": "stream",
     "text": [
      "/Users/cyrilzhang/anaconda/lib/python2.7/site-packages/numpy/core/_methods.py:59: RuntimeWarning: Mean of empty slice.\n",
      "  warnings.warn(\"Mean of empty slice.\", RuntimeWarning)\n",
      "/Users/cyrilzhang/anaconda/lib/python2.7/site-packages/numpy/core/_methods.py:70: RuntimeWarning: invalid value encountered in double_scalars\n",
      "  ret = ret.dtype.type(ret / rcount)\n",
      "/Users/cyrilzhang/anaconda/lib/python2.7/site-packages/numpy/core/_methods.py:82: RuntimeWarning: Degrees of freedom <= 0 for slice\n",
      "  warnings.warn(\"Degrees of freedom <= 0 for slice\", RuntimeWarning)\n",
      "/Users/cyrilzhang/anaconda/lib/python2.7/site-packages/numpy/core/_methods.py:94: RuntimeWarning: invalid value encountered in true_divide\n",
      "  arrmean, rcount, out=arrmean, casting='unsafe', subok=False)\n",
      "/Users/cyrilzhang/anaconda/lib/python2.7/site-packages/numpy/core/_methods.py:116: RuntimeWarning: invalid value encountered in double_scalars\n",
      "  ret = ret.dtype.type(ret / rcount)\n"
     ]
    }
   ],
   "source": [
    "\"\"\"TESTING AND EXAMPLE CODE BELOW\"\"\"\n",
    "t = TestSet()\n",
    "def predict_perfect(data):\n",
    "    return t.labels\n",
    "def predict_shift_3(data):\n",
    "    return shift_rois(t.labels, 3)\n",
    "def predict_shift_5(data): \n",
    "    return shift_rois(t.labels,5)\n",
    "def predict_shift_15(data):\n",
    "    return shift_rois(t.labels,15)   \n",
    "            \n",
    "def shift_rois(labels, shift_amt):\n",
    "    new_labels = []\n",
    "    for stack in labels:\n",
    "        new_stack = np.zeros(stack.shape)\n",
    "        for i,roi in enumerate(stack):\n",
    "            new_stack[i] = np.roll(roi, shift_amt, axis=1)\n",
    "        new_labels.append(new_stack)\n",
    "    return new_labels\n",
    "\n",
    "scores = [Score(predict_perfect, t), Score(predict_shift_3, t), \n",
    "          Score(predict_shift_5, t), Score(predict_shift_15, t)]\n"
   ]
  },
  {
   "cell_type": "code",
   "execution_count": 3,
   "metadata": {
    "collapsed": false
   },
   "outputs": [
    {
     "name": "stdout",
     "output_type": "stream",
     "text": [
      "Total F1 Score      = 1.0\n",
      "F1 Score per stack  = [1.0, 1.0]\n",
      "Total Precision     = 1.0\n",
      "Precision per stack = [1.0, 1.0]\n",
      "Total Recall        = 1.0\n",
      "Recall per stack    = [1.0, 1.0]\n",
      "Overlap Boundary Quality, all stacks = {'std recall': 0.0, 'mean precision': 1.0, 'std precision': 0.0, 'mean recall': 1.0}\n",
      "Overlap Boundary Quality, per stack  = [{'std recall': 0.0, 'mean precision': 1.0, 'std precision': 0.0, 'mean recall': 1.0}, {'std recall': 0.0, 'mean precision': 1.0, 'std precision': 0.0, 'mean recall': 1.0}]\n",
      "\n",
      "\n",
      "Total F1 Score      = 0.992337164751\n",
      "F1 Score per stack  = [0.9896907216494846, 0.9939024390243902]\n",
      "Total Precision     = 0.992337164751\n",
      "Precision per stack = [0.9896907216494846, 0.9939024390243902]\n",
      "Total Recall        = 0.992337164751\n",
      "Recall per stack    = [0.9896907216494846, 0.9939024390243902]\n",
      "Overlap Boundary Quality, all stacks = {'std recall': 0.02398722978827976, 'mean precision': 0.75587293893328311, 'std precision': 0.02398722978827976, 'mean recall': 0.75587293893328311}\n",
      "Overlap Boundary Quality, per stack  = [{'std recall': 0.029138002498188667, 'mean precision': 0.76180060143065786, 'std precision': 0.029138002498188667, 'mean recall': 0.76180060143065786}, {'std recall': 0.019528056775079267, 'mean precision': 0.7523818002845224, 'std precision': 0.019528056775079267, 'mean recall': 0.7523818002845224}]\n",
      "\n",
      "\n",
      "Total F1 Score      = 0.0153256704981\n",
      "F1 Score per stack  = [0.041237113402061855, 0]\n",
      "Total Precision     = 0.0153256704981\n",
      "Precision per stack = [0.041237113402061855, 0.0]\n",
      "Total Recall        = 0.0153256704981\n",
      "Recall per stack    = [0.041237113402061855, 0.0]\n",
      "Overlap Boundary Quality, all stacks = {'std recall': 0.0066396428856581348, 'mean precision': 0.67482684182503638, 'std precision': 0.0066396428856581348, 'mean recall': 0.67482684182503638}\n",
      "Overlap Boundary Quality, per stack  = [{'std recall': 0.0066396428856581348, 'mean precision': 0.67482684182503638, 'std precision': 0.0066396428856581348, 'mean recall': 0.67482684182503638}, {'std recall': nan, 'mean precision': nan, 'std precision': nan, 'mean recall': nan}]\n",
      "\n",
      "\n",
      "Total F1 Score      = 0.0421455938697\n",
      "F1 Score per stack  = [0.030927835051546393, 0.04878048780487805]\n",
      "Total Precision     = 0.0421455938697\n",
      "Precision per stack = [0.030927835051546393, 0.04878048780487805]\n",
      "Total Recall        = 0.0421455938697\n",
      "Recall per stack    = [0.030927835051546393, 0.04878048780487805]\n",
      "Overlap Boundary Quality, all stacks = {'std recall': 0.070024068967546968, 'mean precision': 0.78076759772671511, 'std precision': 0.080526637051300129, 'mean recall': 0.82579809048265995}\n",
      "Overlap Boundary Quality, per stack  = [{'std recall': 0.065719019495382405, 'mean precision': 0.84644887145609682, 'std precision': 0.077405239820927021, 'mean recall': 0.82210231797473521}, {'std recall': 0.071522515452007357, 'mean precision': 0.756137120078197, 'std precision': 0.066670688816196783, 'mean recall': 0.82718400517313162}]\n",
      "\n",
      "\n"
     ]
    }
   ],
   "source": [
    "for s in scores:\n",
    "    print str(s)\n"
   ]
  },
  {
   "cell_type": "code",
   "execution_count": 4,
   "metadata": {
    "collapsed": false
   },
   "outputs": [
    {
     "name": "stdout",
     "output_type": "stream",
     "text": [
      "Score Number in order of increasing recall: (2, 3, 1, 0)\n",
      "Score number in order of increasing boundary recall: (2, 1, 3, 0)\n"
     ]
    },
    {
     "data": {
      "image/png": "[encoded data removed]",
      "text/plain": [
       "<matplotlib.figure.Figure at 0x1072f3690>"
      ]
     },
     "metadata": {},
     "output_type": "display_data"
    },
    {
     "data": {
      "image/png": "[encoded data removed]",
      "text/plain": [
       "<matplotlib.figure.Figure at 0x1023eb890>"
      ]
     },
     "metadata": {},
     "output_type": "display_data"
    },
    {
     "name": "stderr",
     "output_type": "stream",
     "text": [
      "/Users/cyrilzhang/anaconda/lib/python2.7/site-packages/matplotlib/collections.py:590: FutureWarning: elementwise comparison failed; returning scalar instead, but in the future will perform elementwise comparison\n",
      "  if self._edgecolors == str('face'):\n"
     ]
    },
    {
     "data": {
      "image/png": "[encoded data removed]",
      "text/plain": [
       "<matplotlib.figure.Figure at 0x103b17b10>"
      ]
     },
     "metadata": {},
     "output_type": "display_data"
    }
   ],
   "source": [
    "plt.rcParams['figure.figsize'] = (5, 5)\n",
    "plot_multiple_scores(scores)"
   ]
  },
  {
   "cell_type": "code",
   "execution_count": null,
   "metadata": {
    "collapsed": true
   },
   "outputs": [],
   "source": []
  }
 ],
 "metadata": {
  "kernelspec": {
   "display_name": "Python 2",
   "language": "python",
   "name": "python2"
  },
  "language_info": {
   "codemirror_mode": {
    "name": "ipython",
    "version": 2
   },
   "file_extension": ".py",
   "mimetype": "text/x-python",
   "name": "python",
   "nbconvert_exporter": "python",
   "pygments_lexer": "ipython2",
   "version": "2.7.10"
  }
 },
 "nbformat": 4,
 "nbformat_minor": 0
}
