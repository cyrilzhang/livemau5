{
 "cells": [
  {
   "cell_type": "code",
   "execution_count": 1,
   "metadata": {
    "collapsed": true
   },
   "outputs": [],
   "source": [
    "%matplotlib inline\n",
    "\n",
    "import matplotlib.pyplot as plt\n",
    "import numpy as np\n",
    "from scipy.ndimage.filters import laplace\n",
    "from skimage import feature\n",
    "from itertools import chain\n",
    "import random\n",
    "\n",
    "from load import *\n",
    "\n",
    "#plt.rcParams['figure.figsize'] = (16, 16)"
   ]
  },
  {
   "cell_type": "code",
   "execution_count": 2,
   "metadata": {
    "collapsed": false
   },
   "outputs": [],
   "source": [
    "class TestSet: \n",
    "    \"\"\"Stores test set or validation set data and images.\n",
    "    \n",
    "    self.data   = list of 3D image arrays with dimensions (stack, time, w, h)\n",
    "    self.labels = list of 3D ROI arrays with dimensions (stack, ROI index, w, h)\n",
    "    Change code so \"files\" points to the test/validation set\n",
    "    \"\"\"\n",
    "    def __init__(self):\n",
    "        files = []\n",
    "        for j in range(3,5):\n",
    "            prefix = '../data/AMG3_exp%d'%(j)\n",
    "            files.append( (prefix+'.tif', prefix+'.zip') )\n",
    "        self.data = []\n",
    "        self.labels = []\n",
    "        for i,(s,r) in enumerate(files):\n",
    "            self.data.append(load_stack(s))\n",
    "            self.labels.append(load_rois(r, 512, 512))\n",
    "\n",
    "class Score:\n",
    "    \"\"\"Class to calculate and store score.\n",
    "    \n",
    "    Constructor takes a prediction function that takes a list of image stacks and \n",
    "    returns a list of 3D 0-1 ROI arrays with dimensions (stack, roi index, w, h).\n",
    "    \n",
    "    self.predictions      = list of predicted ROIs (stack, ROI index, w, h)\n",
    "    self.categorized      = list of predicted ROIs divided into FPs, FNs, and TPs matched with true ROIs\n",
    "                             pred ROIs with <0.5 overlap to any true ROI are false positives\n",
    "                             true ROIs with <0.5 overlap to any pred ROI are false negatives\n",
    "                             true positive pairs are made by maximizing overlap between pairs\n",
    "                             e.g. self.categorized[0][\"fps\"][n] = nth false positive ROI from the 0th image stack\n",
    "                             e.g. self.categorized[0][\"tps\"][n] = nth (pred ROI, true ROI) pair from 0th image stack\n",
    "    self.total_f1_score   = F1 score with all image stacks merged\n",
    "    self.f1_scores        = list of F1 scores per stack\n",
    "    self.total_precision  = total precision with all image stacks merged\n",
    "    self.precisions       = list of precisions per stack\n",
    "    self.total_recall     = total recall with all stacks merged\n",
    "    self.recalls          = list of recalls per stack\n",
    "    self.total_overlap_bq = dict of pixel-wise precisions and recalls for all paired TP predicted ROIs and true ROIs\n",
    "                            keys = [\"mean precision\", \"std precision\", \"mean recall\", \"std recall\"]\n",
    "                             e.g. self.total_overlap_bq[\"mean precision\"] = \n",
    "                               mean (pixels in both pred_roi and true_roi) / (pixels in pred_roi)\n",
    "    self.overlap_bqs      = list of dicts as in self.total_overlap_bq with one dict per image stack                   \n",
    "    \"\"\"\n",
    "    def __init__(self, prediction_func):\n",
    "        test_set = TestSet()\n",
    "        self.predictions = prediction_func(test_set.data)\n",
    "        # assert that predicted and true ROI stacks are the same shape\n",
    "        assert(all([self.predictions[i].shape[1] == test_set.labels[i].shape[1] \n",
    "                    for i in range(len(test_set.labels))]))\n",
    "        # assert that predicted ROI stacks are 0-1 arrays\n",
    "        assert(all([np.all(np.logical_or(self.predictions[i] == 1, self.predictions[i] == 0)) \n",
    "                    for i in range(len(self.predictions))]))\n",
    "        self.categorized = categorize(self.predictions, test_set.labels)\n",
    "        self.precisions, self.total_precision, self.recalls, self.total_recall = calc_precision_recall(self.categorized)\n",
    "        self.f1_scores = map(calc_f1_score, zip(self.precisions, self.recalls))\n",
    "        self.total_f1_score = calc_f1_score((self.total_precision, self.total_recall))\n",
    "        self.overlap_bqs, self.total_overlap_bq = overlap_boundary_quality(self.categorized)\n",
    "       \n",
    "    def __str__(self):\n",
    "        \"\"\"Convert Score to readable output\"\"\"\n",
    "        string =  \"Total F1 Score      = {}\\n\".format(self.total_f1_score)\n",
    "        string += \"F1 Score per stack  = {!s}\\n\".format(self.f1_scores)\n",
    "        string += \"Total Precision     = {}\\n\".format(self.total_precision)\n",
    "        string += \"Precision per stack = {!s}\\n\".format(self.precisions)\n",
    "        string += \"Total Recall        = {}\\n\".format(self.total_recall)\n",
    "        string += \"Recall per stack    = {!s}\\n\".format(self.recalls)\n",
    "        string += \"Overlap Boundary Quality, all stacks = {!s}\\n\".format(self.total_overlap_bq)\n",
    "        string += \"Overlap Boundary Quality, per stack  = {!s}\\n\\n\".format(self.overlap_bqs)\n",
    "        return string\n",
    "    \n",
    "    def plot(self):\n",
    "        \"\"\"Plot all data in Score\"\"\"\n",
    "        fig, ax = plt.subplots()\n",
    "        yvals = [self.total_f1_score, self.total_precision, self.total_recall, \n",
    "                self.total_overlap_bq[\"mean precision\"], self.total_overlap_bq[\"std precision\"],\n",
    "                self.total_overlap_bq[\"mean recall\"], self.total_overlap_bq[\"std recall\"]]\n",
    "        xvals = np.arange(len(yvals))\n",
    "        plt.bar(xvals, yvals, width=0.6)\n",
    "        ax.set_xticks(xvals + 0.3)\n",
    "        ax.set_xticklabels(['F1 score', 'precision', 'recall', 'mbp', 'sbp', 'mbr', 'sbr'])\n",
    "        plt.show()\n",
    "        \n",
    "def categorize(predictions, labels):\n",
    "    \"Divide predictions and labels into FPs, FNs, and TPs\"\n",
    "    categorized = []\n",
    "    for i in range(len(predictions)):\n",
    "        categorized.append({\"fps\":[], \"fns\":[], \"tps\":[]})\n",
    "        rois_pred, rois_true = list(predictions[i].copy()), list(labels[i].copy())\n",
    "        for roi_pred in rois_pred:\n",
    "            overlaps = map(lambda roi_true: calc_overlap(roi_pred, roi_true)[0], rois_true)\n",
    "            best_overlap, best_index = np.max(overlaps), np.argmax(overlaps)\n",
    "            if best_overlap > 0.5:\n",
    "                categorized[i][\"tps\"].append((roi_pred, rois_true[best_index]))\n",
    "                del rois_true[best_index]\n",
    "            else:\n",
    "                categorized[i][\"fps\"].append(roi_pred)\n",
    "        for roi_true in rois_true:\n",
    "            categorized[i][\"fns\"].append(roi_true)\n",
    "    return categorized\n",
    "\n",
    "def calc_precision_recall(categorized):\n",
    "    \"\"\"Calculate precision and recall from categorized predictions and labels\"\"\"\n",
    "    num_fps = [len(categorized[i][\"fps\"]) for i in range(len(categorized))]\n",
    "    num_fns = [len(categorized[i][\"fns\"]) for i in range(len(categorized))]\n",
    "    num_pairs = [len(categorized[i][\"tps\"]) for i in range(len(categorized))]\n",
    "    precisions = [num_pairs[i] / float(num_pairs[i] + num_fps[i]) for i in range(len(categorized))]\n",
    "    recalls = [num_pairs[i] / float(num_pairs[i] + num_fns[i]) for i in range(len(categorized))]\n",
    "    total_precision = sum(num_pairs) / float(sum(num_pairs) + sum(num_fps))\n",
    "    total_recall = sum(num_pairs) / float(sum(num_pairs) + sum(num_fns))\n",
    "    return precisions, total_precision, recalls, total_recall\n",
    "    \n",
    "def calc_overlap(roi_pred, roi_true):\n",
    "    \"\"\"For a given (2D array, 2D array) pair of predicted and true ROIs,\n",
    "    overlap   = (# pixel intersection / (# pixel union)\n",
    "    precision = (# pixel intersection) / (# pixels in true ROI)\n",
    "    recall    = (# pixel interection) / (# pixels in pred ROI)\n",
    "    \"\"\"\n",
    "    intersection = np.sum(np.logical_and(roi_pred, roi_true))\n",
    "    union = np.sum(np.logical_or(roi_pred, roi_true))\n",
    "    if union == 0: \n",
    "        return 0, 0, 0\n",
    "    precision = intersection / float(np.sum(roi_pred))\n",
    "    recall = intersection / float(np.sum(roi_true))\n",
    "    overlap = intersection / float(union)\n",
    "    return overlap, precision, recall\n",
    "\n",
    "def calc_f1_score((precision, recall)):\n",
    "    \"\"\"F1 score is harmonic mean of precision and recall\"\"\"\n",
    "    if recall == 0:\n",
    "        return 0 \n",
    "    else:\n",
    "        return (2 * precision * recall) / (precision + recall)\n",
    "    \n",
    "def overlap_boundary_quality(categorized):\n",
    "    \"\"\"Calculates pixel-based mean and std of precision and recall \n",
    "    of TP (pred roi, true roi) pairs\n",
    "    \"\"\"\n",
    "    qualities = []\n",
    "    precisions = []\n",
    "    recalls = []\n",
    "    for i in range(len(categorized)):\n",
    "        precisions.append([])\n",
    "        recalls.append([])\n",
    "        for roi_pred, roi_true in categorized[i][\"tps\"]:\n",
    "            _, precision, recall = calc_overlap(roi_pred, roi_true)\n",
    "            precisions[i].append(precision)\n",
    "            recalls[i].append(recall)\n",
    "        qualities.append({\"mean precision\": np.mean(precisions[i]), \"std precision\": np.std(precisions[i]),\n",
    "                          \"mean recall\": np.mean(recalls[i]), \"std recall\": np.std(recalls[i])})\n",
    "    overall = {\"mean precision\": np.mean(list(chain.from_iterable(precisions))),\n",
    "               \"std precision\": np.std(list(chain.from_iterable(precisions))),\n",
    "               \"mean recall\": np.mean(list(chain.from_iterable(recalls))),\n",
    "               \"std recall\": np.std(list(chain.from_iterable(recalls)))}\n",
    "    return qualities, overall   "
   ]
  },
  {
   "cell_type": "code",
   "execution_count": 3,
   "metadata": {
    "collapsed": true
   },
   "outputs": [],
   "source": [
    "def plot_multiple_scores(scores):\n",
    "    \"\"\"Takes list of multiple scores and plots precision/recall curves\n",
    "    and f1 score comparisons.\n",
    "    \"\"\"\n",
    "    f1_fig, ax = plt.subplots()\n",
    "    f1s = [s.total_f1_score for s in scores]\n",
    "    x = np.arange(len(f1s))\n",
    "    plt.bar(x, f1s, width=1)\n",
    "    ax.set_xticks(x + 0.5)\n",
    "    ax.set_xticklabels(map(str,x))\n",
    "    plt.ylabel('F1 score')\n",
    "    plt.xlabel('Algorithm Number')\n",
    "    \n",
    "    pr_fig = plt.figure()\n",
    "    recalls = [s.total_recall for s in scores]\n",
    "    precisions = [s.total_precision for s in scores]\n",
    "    r, p, num = zip(*sorted(zip(recalls, precisions, np.arange(len(recalls)))))\n",
    "    plt.plot(r, p, '.-', markersize=10)\n",
    "    plt.xlabel('Recall')\n",
    "    plt.ylabel('Precision')\n",
    "    print \"Score Number in order of increasing recall: \" + str(num)\n",
    "    \n",
    "    pr_boundary_fig = plt.figure()\n",
    "    recalls = [s.total_overlap_bq[\"mean recall\"] for s in scores]\n",
    "    precisions = [s.total_overlap_bq[\"mean precision\"] for s in scores]\n",
    "    r_std = [s.total_overlap_bq[\"std recall\"] for s in scores]\n",
    "    p_std = [s.total_overlap_bq[\"std precision\"] for s in scores]\n",
    "    rm, pm, rs, ps, num = zip(*sorted(zip(recalls, precisions, r_std, p_std, np.arange(len(recalls)))))\n",
    "    print pm\n",
    "    print rm\n",
    "    plt.errorbar(rm, pm, xerr=rs, yerr=ps, fmt='.-',markersize=10)\n",
    "    plt.xlabel('Recall')\n",
    "    plt.ylabel('Precision')\n",
    "    print \"Score number in order of increasing boundary recall: \" + str(num)\n",
    "    \n",
    "    plt.show()"
   ]
  },
  {
   "cell_type": "code",
   "execution_count": 5,
   "metadata": {
    "collapsed": false
   },
   "outputs": [],
   "source": [
    "\"\"\"TESTING AND EXAMPLE CODE BELOW\"\"\"\n",
    "t = TestSet()\n",
    "def predict_perfect(data):\n",
    "    return t.labels\n",
    "def predict_shift_3(data):\n",
    "    return shift_rois(t.labels, 3)\n",
    "def predict_shift_5(data): \n",
    "    return shift_rois(t.labels,5)\n",
    "def predict_shift_15(data):\n",
    "    return shift_rois(t.labels,15)   \n",
    "            \n",
    "def shift_rois(labels, shift_amt):\n",
    "    new_labels = []\n",
    "    for stack in labels:\n",
    "        new_stack = np.zeros(stack.shape)\n",
    "        for i,roi in enumerate(stack):\n",
    "            new_stack[i] = np.roll(roi, shift_amt, axis=1)\n",
    "        new_labels.append(new_stack)\n",
    "    return new_labels\n",
    "\n",
    "scores = [Score(predict_perfect), Score(predict_shift_3), \n",
    "          Score(predict_shift_5), Score(predict_shift_15)]\n"
   ]
  },
  {
   "cell_type": "code",
   "execution_count": 6,
   "metadata": {
    "collapsed": false
   },
   "outputs": [
    {
     "name": "stdout",
     "output_type": "stream",
     "text": [
      "Total F1 Score      = 1.0\n",
      "F1 Score per stack  = [1.0, 1.0]\n",
      "Total Precision     = 1.0\n",
      "Precision per stack = [1.0, 1.0]\n",
      "Total Recall        = 1.0\n",
      "Recall per stack    = [1.0, 1.0]\n",
      "Overlap Boundary Quality, all stacks = {'std recall': 0.0, 'mean precision': 1.0, 'std precision': 0.0, 'mean recall': 1.0}\n",
      "Overlap Boundary Quality, per stack  = [{'std recall': 0.0, 'mean precision': 1.0, 'std precision': 0.0, 'mean recall': 1.0}, {'std recall': 0.0, 'mean precision': 1.0, 'std precision': 0.0, 'mean recall': 1.0}]\n",
      "\n",
      "\n",
      "Total F1 Score      = 0.992337164751\n",
      "F1 Score per stack  = [0.9896907216494846, 0.9939024390243902]\n",
      "Total Precision     = 0.992337164751\n",
      "Precision per stack = [0.9896907216494846, 0.9939024390243902]\n",
      "Total Recall        = 0.992337164751\n",
      "Recall per stack    = [0.9896907216494846, 0.9939024390243902]\n",
      "Overlap Boundary Quality, all stacks = {'std recall': 0.02398722978827976, 'mean precision': 0.75587293893328311, 'std precision': 0.02398722978827976, 'mean recall': 0.75587293893328311}\n",
      "Overlap Boundary Quality, per stack  = [{'std recall': 0.029138002498188667, 'mean precision': 0.76180060143065786, 'std precision': 0.029138002498188667, 'mean recall': 0.76180060143065786}, {'std recall': 0.019528056775079267, 'mean precision': 0.7523818002845224, 'std precision': 0.019528056775079267, 'mean recall': 0.7523818002845224}]\n",
      "\n",
      "\n",
      "Total F1 Score      = 0.0153256704981\n",
      "F1 Score per stack  = [0.041237113402061855, 0]\n",
      "Total Precision     = 0.0153256704981\n",
      "Precision per stack = [0.041237113402061855, 0.0]\n",
      "Total Recall        = 0.0153256704981\n",
      "Recall per stack    = [0.041237113402061855, 0.0]\n",
      "Overlap Boundary Quality, all stacks = {'std recall': 0.0066396428856581348, 'mean precision': 0.67482684182503638, 'std precision': 0.0066396428856581348, 'mean recall': 0.67482684182503638}\n",
      "Overlap Boundary Quality, per stack  = [{'std recall': 0.0066396428856581348, 'mean precision': 0.67482684182503638, 'std precision': 0.0066396428856581348, 'mean recall': 0.67482684182503638}, {'std recall': nan, 'mean precision': nan, 'std precision': nan, 'mean recall': nan}]\n",
      "\n",
      "\n",
      "Total F1 Score      = 0.0421455938697\n",
      "F1 Score per stack  = [0.030927835051546393, 0.04878048780487805]\n",
      "Total Precision     = 0.0421455938697\n",
      "Precision per stack = [0.030927835051546393, 0.04878048780487805]\n",
      "Total Recall        = 0.0421455938697\n",
      "Recall per stack    = [0.030927835051546393, 0.04878048780487805]\n",
      "Overlap Boundary Quality, all stacks = {'std recall': 0.070024068967546968, 'mean precision': 0.78076759772671511, 'std precision': 0.080526637051300129, 'mean recall': 0.82579809048265995}\n",
      "Overlap Boundary Quality, per stack  = [{'std recall': 0.065719019495382405, 'mean precision': 0.84644887145609682, 'std precision': 0.077405239820927021, 'mean recall': 0.82210231797473521}, {'std recall': 0.071522515452007357, 'mean precision': 0.756137120078197, 'std precision': 0.066670688816196783, 'mean recall': 0.82718400517313162}]\n",
      "\n",
      "\n"
     ]
    }
   ],
   "source": [
    "for s in scores:\n",
    "    print str(s)\n"
   ]
  },
  {
   "cell_type": "code",
   "execution_count": 7,
   "metadata": {
    "collapsed": false
   },
   "outputs": [
    {
     "name": "stdout",
     "output_type": "stream",
     "text": [
      "Score Number in order of increasing recall: (2, 3, 1, 0)\n",
      "(0.67482684182503638, 0.75587293893328311, 0.78076759772671511, 1.0)\n",
      "(0.67482684182503638, 0.75587293893328311, 0.82579809048265995, 1.0)\n",
      "Score number in order of increasing boundary recall: (2, 1, 3, 0)\n"
     ]
    },
    {
     "data": {
      "image/png": "[encoded data removed]",
      "text/plain": [
       "<matplotlib.figure.Figure at 0x10c871a50>"
      ]
     },
     "metadata": {},
     "output_type": "display_data"
    },
    {
     "data": {
      "image/png": "[encoded data removed]",
      "text/plain": [
       "<matplotlib.figure.Figure at 0x10f817790>"
      ]
     },
     "metadata": {},
     "output_type": "display_data"
    },
    {
     "data": {
      "image/png": "[encoded data removed]",
      "text/plain": [
       "<matplotlib.figure.Figure at 0x106dbe590>"
      ]
     },
     "metadata": {},
     "output_type": "display_data"
    }
   ],
   "source": [
    "plt.rcParams['figure.figsize'] = (5, 5)\n",
    "plot_multiple_scores(scores)"
   ]
  },
  {
   "cell_type": "code",
   "execution_count": null,
   "metadata": {
    "collapsed": true
   },
   "outputs": [],
   "source": []
  }
 ],
 "metadata": {
  "kernelspec": {
   "display_name": "Python 2",
   "language": "python",
   "name": "python2"
  },
  "language_info": {
   "codemirror_mode": {
    "name": "ipython",
    "version": 2
   },
   "file_extension": ".py",
   "mimetype": "text/x-python",
   "name": "python",
   "nbconvert_exporter": "python",
   "pygments_lexer": "ipython2",
   "version": "2.7.10"
  }
 },
 "nbformat": 4,
 "nbformat_minor": 0
}
